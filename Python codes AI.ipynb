{
 "cells": [
  {
   "cell_type": "code",
   "execution_count": 1,
   "id": "c2a0c7ed-1a51-401a-a23f-c7854343ef80",
   "metadata": {},
   "outputs": [
    {
     "name": "stdout",
     "output_type": "stream",
     "text": [
      "\n",
      "Output:\n",
      "Mean: 22.3\n",
      "Median: 21.0\n",
      "Mode: 15\n",
      "Variance: 40.67777777777778\n",
      "Standard Deviation: 6.377913277693401\n"
     ]
    }
   ],
   "source": [
    "import statistics\n",
    "import numpy as np\n",
    "\n",
    "data = [15, 21, 29, 21, 15, 24, 32, 21, 15, 30]\n",
    "\n",
    "print(\"\\nOutput:\")\n",
    "mean_value = statistics.mean(data)\n",
    "print(f\"Mean: {mean_value}\")\n",
    "\n",
    "median_value = statistics.median(data)\n",
    "print(f\"Median: {median_value}\")\n",
    "\n",
    "try:\n",
    "    mode_value = statistics.mode(data)\n",
    "    print(f\"Mode: {mode_value}\")\n",
    "except statistics.StatisticsError as e:\n",
    "    print(f\"Mode: {e}\")\n",
    "\n",
    "variance_value = statistics.variance(data)\n",
    "print(f\"Variance: {variance_value}\")\n",
    "\n",
    "std_dev_value = statistics.stdev(data)\n",
    "print(f\"Standard Deviation: {std_dev_value}\")\n"
   ]
  },
  {
   "cell_type": "code",
   "execution_count": 2,
   "id": "67df7ae1-b12c-43f1-a32a-4dafb83c5975",
   "metadata": {},
   "outputs": [
    {
     "name": "stdout",
     "output_type": "stream",
     "text": [
      "\n",
      "Output:\n",
      "Sathish is 20 years old, 5.6 feet tall, and is a Engineering student: True.\n"
     ]
    }
   ],
   "source": [
    "name = \"Sathish\"\n",
    "age = 20\n",
    "height = 5.6\n",
    "is_student = True\n",
    "\n",
    "print(\"\\nOutput:\")\n",
    "print(f\"{name} is {age} years old, {height} feet tall, and is a Engineering student: {is_student}.\")\n"
   ]
  },
  {
   "cell_type": "code",
   "execution_count": 3,
   "id": "3ddee610-4be7-48a4-b37d-95657629e02d",
   "metadata": {},
   "outputs": [
    {
     "name": "stdin",
     "output_type": "stream",
     "text": [
      "Enter an integer:  5\n"
     ]
    },
    {
     "name": "stdout",
     "output_type": "stream",
     "text": [
      "The number is positive.\n",
      "\n"
     ]
    },
    {
     "name": "stdin",
     "output_type": "stream",
     "text": [
      "Enter an integer:  1001\n"
     ]
    },
    {
     "name": "stdout",
     "output_type": "stream",
     "text": [
      "The number is positive.\n",
      "\n"
     ]
    },
    {
     "name": "stdin",
     "output_type": "stream",
     "text": [
      "Enter an integer:  1000\n"
     ]
    },
    {
     "name": "stdout",
     "output_type": "stream",
     "text": [
      "Exiting the program.\n"
     ]
    }
   ],
   "source": [
    "while True:\n",
    "    num = int(input(\"Enter an integer: \"))\n",
    "\n",
    "    if num == 1000:  # Exit condition\n",
    "        print(\"Exiting the program.\")\n",
    "        break\n",
    "    elif num > 0:\n",
    "        print(\"The number is positive.\\n\")\n",
    "    elif num < 0:\n",
    "        print(\"The number is negative.\\n\")\n",
    "    else:\n",
    "        print(\"The number is zero.\\n\")\n"
   ]
  },
  {
   "cell_type": "code",
   "execution_count": 4,
   "id": "36906379-85c6-4d80-9ded-64122823c80d",
   "metadata": {},
   "outputs": [
    {
     "name": "stdin",
     "output_type": "stream",
     "text": [
      "Enter a number:  5\n"
     ]
    },
    {
     "name": "stdout",
     "output_type": "stream",
     "text": [
      "Multiplication Table for 5 :\n",
      "5 x 1 = 5\n",
      "5 x 2 = 10\n",
      "5 x 3 = 15\n",
      "5 x 4 = 20\n",
      "5 x 5 = 25\n",
      "5 x 6 = 30\n",
      "5 x 7 = 35\n",
      "5 x 8 = 40\n",
      "5 x 9 = 45\n",
      "5 x 10 = 50\n"
     ]
    }
   ],
   "source": [
    "num = int(input(\"Enter a number: \"))\n",
    "\n",
    "print(\"Multiplication Table for\", num, \":\")\n",
    "for i in range(1, 11):\n",
    "    print(num, \"x\", i, \"=\", num * i)\n"
   ]
  },
  {
   "cell_type": "code",
   "execution_count": 5,
   "id": "e4b1d0b1-f0a0-4a06-a0ff-d112be2bfce7",
   "metadata": {},
   "outputs": [
    {
     "name": "stdout",
     "output_type": "stream",
     "text": [
      "\n",
      "Output:\n",
      "Original List of Fruits: ['Apple', 'Banana', 'Cherry', 'Mango', 'Orange']\n",
      "After Adding Grapes: ['Apple', 'Banana', 'Cherry', 'Mango', 'Orange', 'Grapes']\n",
      "After Removing Banana: ['Apple', 'Cherry', 'Mango', 'Orange', 'Grapes']\n",
      "Sorted List: ['Apple', 'Cherry', 'Grapes', 'Mango', 'Orange']\n",
      "Total Number of Fruits: 5\n",
      "Fruit at Index 2: Grapes\n",
      "Reversed List: ['Orange', 'Mango', 'Grapes', 'Cherry', 'Apple']\n"
     ]
    }
   ],
   "source": [
    "fruits = [\"Apple\", \"Banana\", \"Cherry\", \"Mango\", \"Orange\"]\n",
    "\n",
    "print(\"\\nOutput:\")\n",
    "print(\"Original List of Fruits:\", fruits)\n",
    "\n",
    "fruits.append(\"Grapes\")\n",
    "print(\"After Adding Grapes:\", fruits)\n",
    "\n",
    "fruits.remove(\"Banana\")\n",
    "print(\"After Removing Banana:\", fruits)\n",
    "\n",
    "fruits.sort()\n",
    "print(\"Sorted List:\", fruits)\n",
    "\n",
    "print(\"Total Number of Fruits:\", len(fruits))\n",
    "\n",
    "print(\"Fruit at Index 2:\", fruits[2])\n",
    "\n",
    "fruits.reverse()\n",
    "print(\"Reversed List:\", fruits)\n"
   ]
  },
  {
   "cell_type": "code",
   "execution_count": 6,
   "id": "61374c75-e1c0-4f0c-8ed9-990b00e7ebdf",
   "metadata": {},
   "outputs": [
    {
     "name": "stdout",
     "output_type": "stream",
     "text": [
      "Original Tuple: (10, 25, 30, 45, 60)\n",
      "First Element: 10\n",
      "Last Element: 60\n",
      "First Three Elements: (10, 25, 30)\n",
      "Last Two Elements: (45, 60)\n",
      "Length of Tuple: 5\n",
      "Maximum Value: 60\n",
      "Sum of Elements: 170\n",
      "Index of 45: 3\n",
      "Count of 25 in Tuple: 1\n",
      "Iterating through the tuple:\n",
      "10\n",
      "25\n",
      "30\n",
      "45\n",
      "60\n"
     ]
    }
   ],
   "source": [
    "numbers = (10, 25, 30, 45, 60)\n",
    "\n",
    "print(\"Original Tuple:\", numbers)\n",
    "print(\"First Element:\", numbers[0])\n",
    "print(\"Last Element:\", numbers[-1])\n",
    "print(\"First Three Elements:\", numbers[:3])\n",
    "print(\"Last Two Elements:\", numbers[-2:])\n",
    "print(\"Length of Tuple:\", len(numbers))\n",
    "print(\"Maximum Value:\", max(numbers))\n",
    "print(\"Sum of Elements:\", sum(numbers))\n",
    "\n",
    "print(\"Index of 45:\", numbers.index(45))\n",
    "print(\"Count of 25 in Tuple:\", numbers.count(25))\n",
    "print(\"Iterating through the tuple:\")\n",
    "for num in numbers:\n",
    "    print(num)\n"
   ]
  },
  {
   "cell_type": "code",
   "execution_count": 7,
   "id": "a98df408-0c42-4e1e-a0cf-9e4695be6f9e",
   "metadata": {},
   "outputs": [
    {
     "name": "stdout",
     "output_type": "stream",
     "text": [
      "\n",
      "Output:\n",
      "Original Dictionary: {'Sathish': 90, 'Krishna': 95, 'Radha': 92}\n",
      "Marks of Sathish: 90\n",
      "After Adding Sita: {'Sathish': 90, 'Krishna': 95, 'Radha': 92, 'Sita': 88}\n",
      "After Updating Radha's Marks: {'Sathish': 90, 'Krishna': 95, 'Radha': 97, 'Sita': 88}\n",
      "After Removing Sathish: {'Krishna': 95, 'Radha': 97, 'Sita': 88}\n",
      "Is Sathish in the dictionary? False\n",
      "Student Names: ['Krishna', 'Radha', 'Sita']\n",
      "Marks: [95, 97, 88]\n",
      "Student Marks (Key-Value Pairs): [('Krishna', 95), ('Radha', 97), ('Sita', 88)]\n",
      "Iterating through Dictionary:\n",
      "Krishna: 95\n",
      "Radha: 97\n",
      "Sita: 88\n"
     ]
    }
   ],
   "source": [
    "student_marks = {\n",
    "    \"Sathish\": 90,\n",
    "    \"Krishna\": 95,\n",
    "    \"Radha\": 92\n",
    "}\n",
    "\n",
    "print(\"\\nOutput:\")\n",
    "print(\"Original Dictionary:\", student_marks)\n",
    "print(\"Marks of Sathish:\", student_marks[\"Sathish\"])\n",
    "\n",
    "student_marks[\"Sita\"] = 88\n",
    "print(\"After Adding Sita:\", student_marks)\n",
    "\n",
    "student_marks[\"Radha\"] = 97\n",
    "print(\"After Updating Radha's Marks:\", student_marks)\n",
    "\n",
    "del student_marks[\"Sathish\"]\n",
    "print(\"After Removing Sathish:\", student_marks)\n",
    "\n",
    "print(\"Is Sathish in the dictionary?\", \"Sathish\" in student_marks)\n",
    "\n",
    "print(\"Student Names:\", list(student_marks.keys()))\n",
    "print(\"Marks:\", list(student_marks.values()))\n",
    "print(\"Student Marks (Key-Value Pairs):\", list(student_marks.items()))\n",
    "\n",
    "print(\"Iterating through Dictionary:\")\n",
    "for student, marks in student_marks.items():\n",
    "    print(f\"{student}: {marks}\")\n"
   ]
  },
  {
   "cell_type": "code",
   "execution_count": 8,
   "id": "181f12b5-38c9-43c9-bfa9-21994dde42b0",
   "metadata": {},
   "outputs": [
    {
     "name": "stdout",
     "output_type": "stream",
     "text": [
      "\n",
      "Output:\n",
      "Set 1: {33, 21, 54, 56, 77}\n",
      "Set 2: {66, 43, 21, 54}\n",
      "Union: {33, 66, 43, 77, 21, 54, 56}\n",
      "Intersection: {21, 54}\n",
      "Difference (Set1 - Set2): {56, 33, 77}\n",
      "Symmetric Difference: {33, 66, 43, 77, 56}\n",
      "Is Set1 a subset of Set2? False\n",
      "Is Set1 a superset of Set2? False\n",
      "Set1 after adding 10: {33, 21, 54, 56, 10, 77}\n",
      "Set2 after discarding 8: {66, 43, 21, 54}\n",
      "Are Set1 and Set2 disjoint? False\n"
     ]
    }
   ],
   "source": [
    "set1 = {21, 54, 77, 56, 33}\n",
    "set2 = {21, 43, 54, 66, 43}\n",
    "\n",
    "print(\"\\nOutput:\")\n",
    "print(\"Set 1:\", set1)\n",
    "print(\"Set 2:\", set2)\n",
    "\n",
    "union_set = set1.union(set2)\n",
    "print(\"Union:\", union_set)\n",
    "\n",
    "intersection_set = set1.intersection(set2)\n",
    "print(\"Intersection:\", intersection_set)\n",
    "\n",
    "difference_set = set1.difference(set2)\n",
    "print(\"Difference (Set1 - Set2):\", difference_set)\n",
    "\n",
    "symmetric_difference_set = set1.symmetric_difference(set2)\n",
    "print(\"Symmetric Difference:\", symmetric_difference_set)\n",
    "\n",
    "is_subset = set1.issubset(set2)\n",
    "print(\"Is Set1 a subset of Set2?\", is_subset)\n",
    "\n",
    "is_superset = set1.issuperset(set2)\n",
    "print(\"Is Set1 a superset of Set2?\", is_superset)\n",
    "\n",
    "set1.add(10)\n",
    "print(\"Set1 after adding 10:\", set1)\n",
    "\n",
    "set2.discard(8)\n",
    "print(\"Set2 after discarding 8:\", set2)\n",
    "\n",
    "are_disjoint = set1.isdisjoint(set2)\n",
    "print(\"Are Set1 and Set2 disjoint?\", are_disjoint)\n"
   ]
  },
  {
   "cell_type": "code",
   "execution_count": 9,
   "id": "53d76b88-d164-4483-99eb-e3483eb69ff4",
   "metadata": {},
   "outputs": [
    {
     "name": "stdout",
     "output_type": "stream",
     "text": [
      "\n",
      "Output:\n",
      "The largest number in the list is: 100\n"
     ]
    }
   ],
   "source": [
    "def find_largest(numbers):\n",
    "    if not numbers:\n",
    "        return None\n",
    "    largest = numbers[0]\n",
    "    for num in numbers:\n",
    "        if num > largest:\n",
    "            largest = num\n",
    "    return largest\n",
    "\n",
    "sample_list = [10, 25, 50, 5, 100, 75]\n",
    "\n",
    "largest_number = find_largest(sample_list)\n",
    "print(\"\\nOutput:\")\n",
    "print(\"The largest number in the list is:\", largest_number)\n"
   ]
  },
  {
   "cell_type": "code",
   "execution_count": 10,
   "id": "870223b2-a15d-4a45-966f-718725a69da5",
   "metadata": {},
   "outputs": [
    {
     "name": "stdout",
     "output_type": "stream",
     "text": [
      "\n",
      "Output:\n",
      "Squares of even numbers between 1 and 20: [4, 16, 36, 64, 100, 144, 196, 256, 324, 400]\n"
     ]
    }
   ],
   "source": [
    "squares_of_evens = [x**2 for x in range(1, 21) if x % 2 == 0]\n",
    "print(\"\\nOutput:\")\n",
    "print(\"Squares of even numbers between 1 and 20:\", squares_of_evens)\n"
   ]
  },
  {
   "cell_type": "code",
   "execution_count": 1,
   "id": "d35a507f-4c18-486a-8a9c-6f14823535b7",
   "metadata": {},
   "outputs": [
    {
     "name": "stdin",
     "output_type": "stream",
     "text": [
      "Enter first number:  2\n",
      "Enter second number:  4\n"
     ]
    },
    {
     "name": "stdout",
     "output_type": "stream",
     "text": [
      "Product of 2.0 and 4.0 is: 8.0\n"
     ]
    }
   ],
   "source": [
    "product = lambda x, y: x * y\n",
    "\n",
    "num1 = float(input(\"Enter first number: \"))\n",
    "num2 = float(input(\"Enter second number: \"))\n",
    "\n",
    "print(\"Product of\", num1, \"and\", num2, \"is:\", product(num1, num2))\n"
   ]
  },
  {
   "cell_type": "code",
   "execution_count": 2,
   "id": "320e032c-52b5-4ac0-b115-7a6f279bf2db",
   "metadata": {},
   "outputs": [
    {
     "name": "stdout",
     "output_type": "stream",
     "text": [
      "1D Array:\n",
      " [1 2 3 4 5]\n",
      "Shape: (5,)\n",
      "Dimensions: 1\n",
      "\n",
      "2D Array:\n",
      " [[1 2 3]\n",
      " [4 5 6]]\n",
      "Shape: (2, 3)\n",
      "Dimensions: 2\n",
      "\n",
      "3D Array:\n",
      " [[[1 2]\n",
      "  [3 4]]\n",
      "\n",
      " [[5 6]\n",
      "  [7 8]]]\n",
      "Shape: (2, 2, 2)\n",
      "Dimensions: 3\n"
     ]
    }
   ],
   "source": [
    "import numpy as np\n",
    "\n",
    "one_d_array = np.array([1, 2, 3, 4, 5])\n",
    "print(\"1D Array:\\n\", one_d_array)\n",
    "print(\"Shape:\", one_d_array.shape)\n",
    "print(\"Dimensions:\", one_d_array.ndim)\n",
    "print()\n",
    "\n",
    "two_d_array = np.array([[1, 2, 3], [4, 5, 6]])\n",
    "print(\"2D Array:\\n\", two_d_array)\n",
    "print(\"Shape:\", two_d_array.shape)\n",
    "print(\"Dimensions:\", two_d_array.ndim)\n",
    "print()\n",
    "\n",
    "three_d_array = np.array([[[1, 2], [3, 4]], [[5, 6], [7, 8]]])\n",
    "print(\"3D Array:\\n\", three_d_array)\n",
    "print(\"Shape:\", three_d_array.shape)\n",
    "print(\"Dimensions:\", three_d_array.ndim)\n"
   ]
  },
  {
   "cell_type": "code",
   "execution_count": 3,
   "id": "6ea6c5c7-1422-4bf9-bc55-88f38e42e139",
   "metadata": {},
   "outputs": [
    {
     "name": "stdout",
     "output_type": "stream",
     "text": [
      "5x5 Random Integer Array:\n",
      " [[ 52  93  15  72  61]\n",
      " [ 21  83  87  75  75]\n",
      " [ 88 100  24   3  22]\n",
      " [ 53   2  88  30  38]\n",
      " [  2  64  60  21  33]]\n",
      "\n",
      "Element at (2,3): 87\n",
      "\n",
      "3rd Row: [ 88 100  24   3  22]\n",
      "\n",
      "4th Column: [72 75  3 30 21]\n",
      "\n",
      "Top-left 3x3 Sub-Matrix:\n",
      " [[ 52  93  15]\n",
      " [ 21  83  87]\n",
      " [ 88 100  24]]\n"
     ]
    }
   ],
   "source": [
    "import numpy as np\n",
    "\n",
    "np.random.seed(42)\n",
    "array_5x5 = np.random.randint(1, 101, (5, 5))\n",
    "\n",
    "print(\"5x5 Random Integer Array:\\n\", array_5x5)\n",
    "\n",
    "element_2_3 = array_5x5[1, 2]\n",
    "print(\"\\nElement at (2,3):\", element_2_3)\n",
    "\n",
    "row_3 = array_5x5[2, :]\n",
    "print(\"\\n3rd Row:\", row_3)\n",
    "\n",
    "column_4 = array_5x5[:, 3]\n",
    "print(\"\\n4th Column:\", column_4)\n",
    "\n",
    "sub_matrix = array_5x5[:3, :3]\n",
    "print(\"\\nTop-left 3x3 Sub-Matrix:\\n\", sub_matrix)\n"
   ]
  },
  {
   "cell_type": "code",
   "execution_count": 4,
   "id": "ecb351d8-4c96-4b95-8522-a0676fb36545",
   "metadata": {},
   "outputs": [
    {
     "name": "stdout",
     "output_type": "stream",
     "text": [
      "Original 4x4 Array:\n",
      " [[ 1  2  3  4]\n",
      " [ 5  6  7  8]\n",
      " [ 9 10 11 12]\n",
      " [13 14 15 16]]\n",
      "\n",
      "First Two Rows:\n",
      " [[1 2 3 4]\n",
      " [5 6 7 8]]\n",
      "\n",
      "Last Two Columns:\n",
      " [[ 3  4]\n",
      " [ 7  8]\n",
      " [11 12]\n",
      " [15 16]]\n",
      "\n",
      "Central 2x2 Sub-Matrix:\n",
      " [[ 6  7]\n",
      " [10 11]]\n",
      "\n",
      "Second Row:\n",
      " [5 6 7 8]\n",
      "\n",
      "Third Column:\n",
      " [ 3  7 11 15]\n"
     ]
    }
   ],
   "source": [
    "import numpy as np\n",
    "\n",
    "array_4x4 = np.arange(1, 17).reshape(4, 4)\n",
    "print(\"Original 4x4 Array:\\n\", array_4x4)\n",
    "\n",
    "first_two_rows = array_4x4[:2, :]\n",
    "print(\"\\nFirst Two Rows:\\n\", first_two_rows)\n",
    "\n",
    "last_two_columns = array_4x4[:, -2:]\n",
    "print(\"\\nLast Two Columns:\\n\", last_two_columns)\n",
    "\n",
    "central_sub_matrix = array_4x4[1:3, 1:3]\n",
    "print(\"\\nCentral 2x2 Sub-Matrix:\\n\", central_sub_matrix)\n",
    "\n",
    "second_row = array_4x4[1, :]\n",
    "print(\"\\nSecond Row:\\n\", second_row)\n",
    "\n",
    "third_column = array_4x4[:, 2]\n",
    "print(\"\\nThird Column:\\n\", third_column)\n"
   ]
  },
  {
   "cell_type": "code",
   "execution_count": 5,
   "id": "82ccd58e-2c2f-4502-bade-00a099fe9aee",
   "metadata": {},
   "outputs": [
    {
     "name": "stdout",
     "output_type": "stream",
     "text": [
      "\n",
      "Output:\n",
      "Original 2D Array (6x2):\n",
      " [[ 1  2]\n",
      " [ 3  4]\n",
      " [ 5  6]\n",
      " [ 7  8]\n",
      " [ 9 10]\n",
      " [11 12]]\n",
      "\n",
      "Reshaped 3D Array (2x3x2):\n",
      " [[[ 1  2]\n",
      "  [ 3  4]\n",
      "  [ 5  6]]\n",
      "\n",
      " [[ 7  8]\n",
      "  [ 9 10]\n",
      "  [11 12]]]\n",
      "\n",
      "Flattened Array:\n",
      " [ 1  2  3  4  5  6  7  8  9 10 11 12]\n"
     ]
    }
   ],
   "source": [
    "import numpy as np\n",
    "\n",
    "print()\n",
    "print(\"Output:\")\n",
    "array_2d = np.arange(1, 13).reshape(6, 2)\n",
    "print(\"Original 2D Array (6x2):\\n\", array_2d)\n",
    "\n",
    "array_3d = array_2d.reshape(2, 3, 2)\n",
    "print(\"\\nReshaped 3D Array (2x3x2):\\n\", array_3d)\n",
    "\n",
    "flattened_array = array_3d.flatten()\n",
    "print(\"\\nFlattened Array:\\n\", flattened_array)\n"
   ]
  },
  {
   "cell_type": "code",
   "execution_count": 6,
   "id": "ea35fc07-4e27-45fc-a842-0693809c29e2",
   "metadata": {},
   "outputs": [
    {
     "name": "stdout",
     "output_type": "stream",
     "text": [
      "\n",
      "Output:\n",
      "Original 3x3 Array:\n",
      " [[1 2 3]\n",
      " [4 5 6]\n",
      " [7 8 9]]\n",
      "\n",
      "1D Array (Shape 1,3):\n",
      " [10 20 30]\n",
      "\n",
      "Result after Broadcasting Addition:\n",
      " [[11 22 33]\n",
      " [14 25 36]\n",
      " [17 28 39]]\n"
     ]
    }
   ],
   "source": [
    "import numpy as np\n",
    "\n",
    "array_3x3 = np.array([[1, 2, 3],\n",
    "                      [4, 5, 6],\n",
    "                      [7, 8, 9]])\n",
    "\n",
    "print()\n",
    "print(\"Output:\")\n",
    "print(\"Original 3x3 Array:\\n\", array_3x3)\n",
    "\n",
    "array_1d = np.array([10, 20, 30])\n",
    "print(\"\\n1D Array (Shape 1,3):\\n\", array_1d)\n",
    "\n",
    "result = array_3x3 + array_1d\n",
    "print(\"\\nResult after Broadcasting Addition:\\n\", result)\n"
   ]
  },
  {
   "cell_type": "code",
   "execution_count": 7,
   "id": "f5bf9126-cda2-4e76-981d-60341461ef77",
   "metadata": {},
   "outputs": [
    {
     "name": "stdout",
     "output_type": "stream",
     "text": [
      "\n",
      "Output:\n",
      "Array A:\n",
      " [[10 20 30]\n",
      " [40 50 60]\n",
      " [70 80 90]]\n",
      "\n",
      "Array B:\n",
      " [[1 2 3]\n",
      " [4 5 6]\n",
      " [7 8 9]]\n",
      "\n",
      "Element-wise Addition:\n",
      " [[11 22 33]\n",
      " [44 55 66]\n",
      " [77 88 99]]\n",
      "\n",
      "Element-wise Subtraction:\n",
      " [[ 9 18 27]\n",
      " [36 45 54]\n",
      " [63 72 81]]\n",
      "\n",
      "Element-wise Multiplication:\n",
      " [[ 10  40  90]\n",
      " [160 250 360]\n",
      " [490 640 810]]\n",
      "\n",
      "Element-wise Division:\n",
      " [[10. 10. 10.]\n",
      " [10. 10. 10.]\n",
      " [10. 10. 10.]]\n"
     ]
    }
   ],
   "source": [
    "import numpy as np\n",
    "\n",
    "A = np.array([[10, 20, 30],\n",
    "              [40, 50, 60],\n",
    "              [70, 80, 90]])\n",
    "\n",
    "B = np.array([[1, 2, 3],\n",
    "              [4, 5, 6],\n",
    "              [7, 8, 9]])\n",
    "\n",
    "addition = A + B\n",
    "subtraction = A - B\n",
    "multiplication = A * B\n",
    "division = A / B\n",
    "\n",
    "print()\n",
    "print(\"Output:\")\n",
    "print(\"Array A:\\n\", A)\n",
    "print(\"\\nArray B:\\n\", B)\n",
    "print(\"\\nElement-wise Addition:\\n\", addition)\n",
    "print(\"\\nElement-wise Subtraction:\\n\", subtraction)\n",
    "print(\"\\nElement-wise Multiplication:\\n\", multiplication)\n",
    "print(\"\\nElement-wise Division:\\n\", division)\n"
   ]
  },
  {
   "cell_type": "code",
   "execution_count": 8,
   "id": "d5ab95cd-9d75-46cb-a45a-cb525019b63b",
   "metadata": {},
   "outputs": [
    {
     "name": "stdout",
     "output_type": "stream",
     "text": [
      "      Name  Math  Science  English  Total Grade\n",
      "0  Sathish    85       88       90    263     B\n",
      "1  Krishna    78       74       80    232     C\n",
      "2      Gow    92       95       89    276     A\n"
     ]
    }
   ],
   "source": [
    "import pandas as pd\n",
    "\n",
    "data = {\n",
    "    'Name': ['Sathish', 'Krishna', 'Gow'], \n",
    "    'Math': [85, 78, 92], \n",
    "    'Science': [88, 74, 95], \n",
    "    'English': [90, 80, 89] \n",
    "}\n",
    "\n",
    "df = pd.DataFrame(data)\n",
    "\n",
    "df['Total'] = df[['Math', 'Science', 'English']].sum(axis=1)\n",
    "\n",
    "def assign_grade(total):\n",
    "    if total >= 270:\n",
    "        return 'A' \n",
    "    elif total >= 240:\n",
    "        return 'B' \n",
    "    elif total >= 210:\n",
    "        return 'C'\n",
    "    else:\n",
    "        return 'D'\n",
    "\n",
    "df['Grade'] = df['Total'].apply(assign_grade)\n",
    "print(df)"
   ]
  },
  {
   "cell_type": "code",
   "execution_count": null,
   "id": "f50d4095-c41c-4f20-97e2-fb5040cfe85b",
   "metadata": {},
   "outputs": [],
   "source": []
  }
 ],
 "metadata": {
  "kernelspec": {
   "display_name": "Python 3 (ipykernel)",
   "language": "python",
   "name": "python3"
  },
  "language_info": {
   "codemirror_mode": {
    "name": "ipython",
    "version": 3
   },
   "file_extension": ".py",
   "mimetype": "text/x-python",
   "name": "python",
   "nbconvert_exporter": "python",
   "pygments_lexer": "ipython3",
   "version": "3.12.4"
  }
 },
 "nbformat": 4,
 "nbformat_minor": 5
}
